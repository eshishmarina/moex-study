{
 "cells": [
  {
   "cell_type": "code",
   "execution_count": null,
   "outputs": [],
   "source": [
    "% load_ext dotenv\n",
    "% dotenv\n",
    "\n",
    "import os\n",
    "import decimal\n",
    "from datetime import datetime\n",
    "\n",
    "import ipywidgets as widgets\n",
    "import plotly.graph_objects as go\n",
    "import pytz\n",
    "import requests\n",
    "import pandas as pd\n",
    "from dateutil import tz\n",
    "from ipywidgets import interact\n",
    "\n",
    "token = os.getenv(\"TINKOFF_API_TOKEN\")\n",
    "\n",
    "def quotation_to_decimal(quotation):\n",
    "    units = quotation['units']\n",
    "    nano = str(quotation['nano'])\n",
    "\n",
    "    if len(nano) > 8:\n",
    "        return round(decimal.Decimal(units + '.' + nano), 2)\n",
    "    else:\n",
    "        return round(decimal.Decimal(units + '.' + '0' + nano), 2)\n",
    "\n",
    "\n",
    "def get_all_etfs():\n",
    "    response = requests.post(\n",
    "        'https://invest-public-api.tinkoff.ru/rest/tinkoff.public.invest.api.contract.v1.InstrumentsService/Etfs',\n",
    "        json={'instrumentStatus': 'INSTRUMENT_STATUS_BASE'},\n",
    "        headers={\n",
    "            'Authorization': 'Bearer ' + token,\n",
    "            'accept': 'application/json', 'Content-Type': 'application/json'})\n",
    "    return response.json()['instruments']\n",
    "\n",
    "\n",
    "def get_price(figi):\n",
    "    response = requests.post(\n",
    "        'https://invest-public-api.tinkoff.ru/rest/tinkoff.public.invest.api.contract.v1.MarketDataService/GetLastPrices',\n",
    "        json={'figi': [figi]},\n",
    "        headers={\n",
    "            'Authorization': 'Bearer ' + token,\n",
    "            'accept': 'application/json', 'Content-Type': 'application/json'})\n",
    "\n",
    "    return quotation_to_decimal(response.json()['lastPrices'][0]['price'])\n",
    "\n",
    "def str_to_datetime_local(str_date_time):\n",
    "    date_time = datetime.strptime(str_date_time+'+0000', '%Y-%m-%dT%H:%M:%SZ%z')\n",
    "    return date_time.astimezone(tz.tzlocal())\n",
    "\n",
    "def datetime_to_str(date_time):\n",
    "    str_datetime = date_time.astimezone(pytz.utc).strftime('%Y-%m-%dT%H:%M:%S.000Z')\n",
    "    return str_datetime\n",
    "\n",
    "def moex_str_to_datetime_local(str_date_time):\n",
    "    date_time = datetime.strptime(str_date_time+'+0300', '%Y-%m-%d %H:%M:%S%z')\n",
    "    return date_time.astimezone(tz.tzlocal())\n",
    "\n",
    "def datetime_to_moex_str(date_time):\n",
    "    str_datetime = date_time.astimezone(pytz.timezone('Europe/Moscow')).strftime('%Y-%m-%d')\n",
    "    return str_datetime\n",
    "\n",
    "\n",
    "def get_candles(figi, date_start, date_end):\n",
    "    response = requests.post(\n",
    "        'https://invest-public-api.tinkoff.ru/rest/tinkoff.public.invest.api.contract.v1.MarketDataService/GetCandles',\n",
    "        json={'figi': [figi], 'from': [datetime_to_str(date_start)], 'to': [datetime_to_str(date_end)], 'interval': ['CANDLE_INTERVAL_1_MIN']},\n",
    "        headers={\n",
    "            'Authorization': 'Bearer ' + token,\n",
    "            'accept': 'application/json',\n",
    "            'Content-Type': 'application/json'})\n",
    "    df = pd.DataFrame(response.json()['candles'])\n",
    "    df['open'] = df['open'].map(quotation_to_decimal)\n",
    "    df['close'] = df['close'].map(quotation_to_decimal)\n",
    "    df['low'] = df['low'].map(quotation_to_decimal)\n",
    "    df['high'] = df['high'].map(quotation_to_decimal)\n",
    "    df['time'] = df['time'].map(str_to_datetime_local)\n",
    "    return df\n",
    "\n",
    "\n",
    "def get_inav_prices_moex(ticker, date_start, date_end):\n",
    "\n",
    "    df_inav = pd.DataFrame()\n",
    "\n",
    "    start = 0\n",
    "    while True:\n",
    "        next_response = requests.get(\n",
    "            url=f'https://iss.moex.com/iss/engines/stock/markets/index/boardgroups/104/securities/{ticker}A/candles.json',\n",
    "            params={\n",
    "                'interval': 1,\n",
    "                'from': datetime_to_moex_str(date_start),\n",
    "                'till': datetime_to_moex_str(date_end),\n",
    "                'start': start\n",
    "            })\n",
    "\n",
    "        candles = next_response.json()['candles']['data']\n",
    "        if len(candles) > 0:\n",
    "            next_df = pd.DataFrame([{'time': moex_str_to_datetime_local(candle[6]), 'price': candle[0]} for candle in candles])\n",
    "            df_inav = pd.concat([df_inav, next_df], ignore_index=True)\n",
    "            start+=500\n",
    "        else:\n",
    "            break\n",
    "\n",
    "    return df_inav\n",
    "\n",
    "def draw_chart(figi, ticker, date_start, date_end):\n",
    "\n",
    "    df_candles = get_candles(figi, date_start, date_end)\n",
    "\n",
    "    fig = go.Figure(data=[go.Candlestick(x=df_candles['time'],\n",
    "                                         open=df_candles['open'],\n",
    "                                         high=df_candles['high'],\n",
    "                                         low=df_candles['low'],\n",
    "                                         close=df_candles['close'])\n",
    "                                         ])\n",
    "    fig.update_traces(name='market_data', selector=dict(type='candlestick'))\n",
    "    df_inav_prices = get_inav_prices_moex(ticker, date_start, date_end)\n",
    "\n",
    "    fig.add_trace(go.Scatter(x=df_inav_prices['time'], y=df_inav_prices['price'], name='inav'))\n",
    "\n",
    "    fig.show()\n"
   ],
   "metadata": {
    "collapsed": false,
    "pycharm": {
     "name": "#%%\n"
    }
   }
  },
  {
   "cell_type": "code",
   "execution_count": 2,
   "metadata": {
    "pycharm": {
     "name": "#%%\n"
    }
   },
   "outputs": [
    {
     "data": {
      "application/vnd.jupyter.widget-view+json": {
       "model_id": "6167369a23924ac79e3656e35cddadaa",
       "version_major": 2,
       "version_minor": 0
      },
      "text/plain": [
       "interactive(children=(Dropdown(description='Инструмент: ', options=(('Тинькофф iMOEX (TMOS)', ('BBG333333333',…"
      ]
     },
     "metadata": {},
     "output_type": "display_data"
    }
   ],
   "source": [
    "tinkoff_etfs = filter(lambda etf: 'Тинькофф' in etf['name'], get_all_etfs())\n",
    "dropdown_options = [(etf['name'] + ' (' + etf['ticker'] + ')', (etf['figi'], etf['ticker'])) for etf in tinkoff_etfs]\n",
    "\n",
    "figi_widget = widgets.Dropdown(\n",
    "    options=dropdown_options,\n",
    "    description='Инструмент: ',\n",
    ")\n",
    "date_start_widget = widgets.DatetimePicker(\n",
    "    description='Начало периода',\n",
    "    disabled=False\n",
    ")\n",
    "date_end_widget = widgets.DatetimePicker(\n",
    "    description='Конец периода',\n",
    "    disabled=False\n",
    ")\n",
    "\n",
    "@interact(figi_and_ticker=figi_widget, date_start=date_start_widget, date_end=date_end_widget)\n",
    "def on_select(figi_and_ticker, date_start, date_end):\n",
    "    figi = figi_and_ticker[0]\n",
    "    ticker = figi_and_ticker[1]\n",
    "    return draw_chart(figi, ticker, date_start, date_end)"
   ]
  },
  {
   "cell_type": "code",
   "execution_count": null,
   "metadata": {
    "pycharm": {
     "name": "#%%\n"
    }
   },
   "outputs": [],
   "source": []
  }
 ],
 "metadata": {
  "kernelspec": {
   "display_name": "Python 3 (ipykernel)",
   "language": "python",
   "name": "python3"
  },
  "language_info": {
   "codemirror_mode": {
    "name": "ipython",
    "version": 3
   },
   "file_extension": ".py",
   "mimetype": "text/x-python",
   "name": "python",
   "nbconvert_exporter": "python",
   "pygments_lexer": "ipython3",
   "version": "3.9.7"
  }
 },
 "nbformat": 4,
 "nbformat_minor": 1
}